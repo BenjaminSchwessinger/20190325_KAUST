{
 "cells": [
  {
   "cell_type": "markdown",
   "metadata": {},
   "source": [
    "# Import Modules and read in data"
   ]
  },
  {
   "cell_type": "code",
   "execution_count": 1,
   "metadata": {},
   "outputs": [],
   "source": [
    "import pandas as pd\n",
    "import datetime\n",
    "import matplotlib.pyplot as plt\n",
    "\n",
    "df = pd.read_csv('https://dataverse.harvard.edu/api/access/datafile/3005330')"
   ]
  },
  {
   "cell_type": "code",
   "execution_count": 3,
   "metadata": {},
   "outputs": [
    {
     "data": {
      "text/html": [
       "<div>\n",
       "<style scoped>\n",
       "    .dataframe tbody tr th:only-of-type {\n",
       "        vertical-align: middle;\n",
       "    }\n",
       "\n",
       "    .dataframe tbody tr th {\n",
       "        vertical-align: top;\n",
       "    }\n",
       "\n",
       "    .dataframe thead th {\n",
       "        text-align: right;\n",
       "    }\n",
       "</style>\n",
       "<table border=\"1\" class=\"dataframe\">\n",
       "  <thead>\n",
       "    <tr style=\"text-align: right;\">\n",
       "      <th></th>\n",
       "      <th>StartDate</th>\n",
       "      <th>EndDate</th>\n",
       "      <th>Progress</th>\n",
       "      <th>Finished</th>\n",
       "      <th>consent</th>\n",
       "      <th>Activity length</th>\n",
       "      <th>Visit Frequency</th>\n",
       "      <th>Previous Foundings</th>\n",
       "      <th>Admin Status</th>\n",
       "      <th>other_site_participation</th>\n",
       "      <th>...</th>\n",
       "      <th>Sex</th>\n",
       "      <th>year_born</th>\n",
       "      <th>Marital Status</th>\n",
       "      <th>Residence</th>\n",
       "      <th>Race</th>\n",
       "      <th>Hispanic_or_Latino_origin</th>\n",
       "      <th>Residence Area</th>\n",
       "      <th>Household Income</th>\n",
       "      <th>Employment Status</th>\n",
       "      <th>age</th>\n",
       "    </tr>\n",
       "  </thead>\n",
       "  <tbody>\n",
       "    <tr>\n",
       "      <th>0</th>\n",
       "      <td>2016-08-31 09:37:09</td>\n",
       "      <td>2016-08-31 09:49:17</td>\n",
       "      <td>100</td>\n",
       "      <td>True</td>\n",
       "      <td>Accept</td>\n",
       "      <td>Less than 3 months</td>\n",
       "      <td>I visit Wikia multiple times per day</td>\n",
       "      <td>1.0</td>\n",
       "      <td>No</td>\n",
       "      <td>Yes</td>\n",
       "      <td>...</td>\n",
       "      <td>Male</td>\n",
       "      <td>1993.0</td>\n",
       "      <td>Living with another</td>\n",
       "      <td>Canada</td>\n",
       "      <td>White</td>\n",
       "      <td>No</td>\n",
       "      <td>Rural</td>\n",
       "      <td>Under $10,000</td>\n",
       "      <td>Student</td>\n",
       "      <td>26</td>\n",
       "    </tr>\n",
       "    <tr>\n",
       "      <th>1</th>\n",
       "      <td>2016-08-30 07:39:48</td>\n",
       "      <td>2016-08-30 19:24:48</td>\n",
       "      <td>100</td>\n",
       "      <td>True</td>\n",
       "      <td>Accept</td>\n",
       "      <td>Less than 3 months</td>\n",
       "      <td>Once a month or less</td>\n",
       "      <td>1.0</td>\n",
       "      <td>No</td>\n",
       "      <td>No</td>\n",
       "      <td>...</td>\n",
       "      <td>Female</td>\n",
       "      <td>1998.0</td>\n",
       "      <td>Rather not say</td>\n",
       "      <td>Central America</td>\n",
       "      <td>White</td>\n",
       "      <td>No</td>\n",
       "      <td>Rural</td>\n",
       "      <td>Rather not say</td>\n",
       "      <td>Student</td>\n",
       "      <td>21</td>\n",
       "    </tr>\n",
       "    <tr>\n",
       "      <th>2</th>\n",
       "      <td>2016-08-29 08:43:18</td>\n",
       "      <td>2016-08-29 08:56:10</td>\n",
       "      <td>100</td>\n",
       "      <td>True</td>\n",
       "      <td>Accept</td>\n",
       "      <td>Less than 3 months</td>\n",
       "      <td>Once a month or less</td>\n",
       "      <td>1.0</td>\n",
       "      <td>No</td>\n",
       "      <td>No</td>\n",
       "      <td>...</td>\n",
       "      <td>Male</td>\n",
       "      <td>1961.0</td>\n",
       "      <td>Married</td>\n",
       "      <td>USA</td>\n",
       "      <td>White</td>\n",
       "      <td>No</td>\n",
       "      <td>Suburban</td>\n",
       "      <td>$30,000 - $39,999</td>\n",
       "      <td>Employed Part Time</td>\n",
       "      <td>58</td>\n",
       "    </tr>\n",
       "    <tr>\n",
       "      <th>3</th>\n",
       "      <td>2016-08-29 06:59:12</td>\n",
       "      <td>2016-08-29 07:07:55</td>\n",
       "      <td>100</td>\n",
       "      <td>True</td>\n",
       "      <td>Accept</td>\n",
       "      <td>Less than 3 months</td>\n",
       "      <td>I visit Wikia multiple times per day</td>\n",
       "      <td>1.0</td>\n",
       "      <td>No</td>\n",
       "      <td>No</td>\n",
       "      <td>...</td>\n",
       "      <td>Male</td>\n",
       "      <td>1994.0</td>\n",
       "      <td>Single</td>\n",
       "      <td>Europe</td>\n",
       "      <td>White</td>\n",
       "      <td>No</td>\n",
       "      <td>Suburban</td>\n",
       "      <td>Rather not say</td>\n",
       "      <td>Student</td>\n",
       "      <td>25</td>\n",
       "    </tr>\n",
       "    <tr>\n",
       "      <th>4</th>\n",
       "      <td>2016-08-29 05:05:53</td>\n",
       "      <td>2016-08-29 05:18:34</td>\n",
       "      <td>100</td>\n",
       "      <td>True</td>\n",
       "      <td>Accept</td>\n",
       "      <td>Less than 3 months</td>\n",
       "      <td>A few times per month</td>\n",
       "      <td>1.0</td>\n",
       "      <td>No</td>\n",
       "      <td>No</td>\n",
       "      <td>...</td>\n",
       "      <td>Male</td>\n",
       "      <td>1989.0</td>\n",
       "      <td>Single</td>\n",
       "      <td>Asia</td>\n",
       "      <td>Asian Indian</td>\n",
       "      <td>No</td>\n",
       "      <td>Urban</td>\n",
       "      <td>Rather not say</td>\n",
       "      <td>Employed Full Time</td>\n",
       "      <td>30</td>\n",
       "    </tr>\n",
       "  </tbody>\n",
       "</table>\n",
       "<p>5 rows × 88 columns</p>\n",
       "</div>"
      ],
      "text/plain": [
       "             StartDate              EndDate  Progress  Finished consent  \\\n",
       "0  2016-08-31 09:37:09  2016-08-31 09:49:17       100      True  Accept   \n",
       "1  2016-08-30 07:39:48  2016-08-30 19:24:48       100      True  Accept   \n",
       "2  2016-08-29 08:43:18  2016-08-29 08:56:10       100      True  Accept   \n",
       "3  2016-08-29 06:59:12  2016-08-29 07:07:55       100      True  Accept   \n",
       "4  2016-08-29 05:05:53  2016-08-29 05:18:34       100      True  Accept   \n",
       "\n",
       "      Activity length                       Visit Frequency  \\\n",
       "0  Less than 3 months  I visit Wikia multiple times per day   \n",
       "1  Less than 3 months                  Once a month or less   \n",
       "2  Less than 3 months                  Once a month or less   \n",
       "3  Less than 3 months  I visit Wikia multiple times per day   \n",
       "4  Less than 3 months                 A few times per month   \n",
       "\n",
       "   Previous Foundings Admin Status other_site_participation ...      Sex  \\\n",
       "0                 1.0           No                      Yes ...     Male   \n",
       "1                 1.0           No                       No ...   Female   \n",
       "2                 1.0           No                       No ...     Male   \n",
       "3                 1.0           No                       No ...     Male   \n",
       "4                 1.0           No                       No ...     Male   \n",
       "\n",
       "  year_born       Marital Status        Residence          Race  \\\n",
       "0    1993.0  Living with another           Canada         White   \n",
       "1    1998.0       Rather not say  Central America         White   \n",
       "2    1961.0              Married              USA         White   \n",
       "3    1994.0               Single           Europe         White   \n",
       "4    1989.0               Single             Asia  Asian Indian   \n",
       "\n",
       "   Hispanic_or_Latino_origin  Residence Area   Household Income  \\\n",
       "0                         No           Rural      Under $10,000   \n",
       "1                         No           Rural     Rather not say   \n",
       "2                         No        Suburban  $30,000 - $39,999   \n",
       "3                         No        Suburban     Rather not say   \n",
       "4                         No           Urban     Rather not say   \n",
       "\n",
       "    Employment Status  age  \n",
       "0             Student   26  \n",
       "1             Student   21  \n",
       "2  Employed Part Time   58  \n",
       "3             Student   25  \n",
       "4  Employed Full Time   30  \n",
       "\n",
       "[5 rows x 88 columns]"
      ]
     },
     "execution_count": 3,
     "metadata": {},
     "output_type": "execute_result"
    }
   ],
   "source": [
    "df.head()"
   ]
  },
  {
   "cell_type": "markdown",
   "metadata": {},
   "source": [
    "## Add age column"
   ]
  },
  {
   "cell_type": "code",
   "execution_count": 2,
   "metadata": {},
   "outputs": [],
   "source": [
    "df['age'] = datetime.datetime.now().year - df['year_born'].astype(int)"
   ]
  },
  {
   "cell_type": "markdown",
   "metadata": {},
   "source": [
    "## Filter outliers (person younger than 0 or older than 100)"
   ]
  },
  {
   "cell_type": "code",
   "execution_count": 4,
   "metadata": {},
   "outputs": [],
   "source": [
    "df = df[(df['age'] >= 0) & (df['age'] <= 100)]"
   ]
  },
  {
   "cell_type": "markdown",
   "metadata": {},
   "source": [
    "## Select columns of interest"
   ]
  },
  {
   "cell_type": "code",
   "execution_count": 5,
   "metadata": {},
   "outputs": [
    {
     "data": {
      "text/html": [
       "<div>\n",
       "<style scoped>\n",
       "    .dataframe tbody tr th:only-of-type {\n",
       "        vertical-align: middle;\n",
       "    }\n",
       "\n",
       "    .dataframe tbody tr th {\n",
       "        vertical-align: top;\n",
       "    }\n",
       "\n",
       "    .dataframe thead th {\n",
       "        text-align: right;\n",
       "    }\n",
       "</style>\n",
       "<table border=\"1\" class=\"dataframe\">\n",
       "  <thead>\n",
       "    <tr style=\"text-align: right;\">\n",
       "      <th></th>\n",
       "      <th>Sex</th>\n",
       "      <th>age</th>\n",
       "    </tr>\n",
       "  </thead>\n",
       "  <tbody>\n",
       "    <tr>\n",
       "      <th>0</th>\n",
       "      <td>Male</td>\n",
       "      <td>26</td>\n",
       "    </tr>\n",
       "    <tr>\n",
       "      <th>1</th>\n",
       "      <td>Female</td>\n",
       "      <td>21</td>\n",
       "    </tr>\n",
       "    <tr>\n",
       "      <th>2</th>\n",
       "      <td>Male</td>\n",
       "      <td>58</td>\n",
       "    </tr>\n",
       "    <tr>\n",
       "      <th>3</th>\n",
       "      <td>Male</td>\n",
       "      <td>25</td>\n",
       "    </tr>\n",
       "    <tr>\n",
       "      <th>4</th>\n",
       "      <td>Male</td>\n",
       "      <td>30</td>\n",
       "    </tr>\n",
       "  </tbody>\n",
       "</table>\n",
       "</div>"
      ],
      "text/plain": [
       "      Sex  age\n",
       "0    Male   26\n",
       "1  Female   21\n",
       "2    Male   58\n",
       "3    Male   25\n",
       "4    Male   30"
      ]
     },
     "execution_count": 5,
     "metadata": {},
     "output_type": "execute_result"
    }
   ],
   "source": [
    "df_subset = df[[\"Sex\",\"age\"]]\n",
    "df_subset.head()"
   ]
  },
  {
   "cell_type": "markdown",
   "metadata": {},
   "source": [
    "## Compute statistics"
   ]
  },
  {
   "cell_type": "code",
   "execution_count": 6,
   "metadata": {},
   "outputs": [
    {
     "data": {
      "text/html": [
       "<div>\n",
       "<style scoped>\n",
       "    .dataframe tbody tr th:only-of-type {\n",
       "        vertical-align: middle;\n",
       "    }\n",
       "\n",
       "    .dataframe tbody tr th {\n",
       "        vertical-align: top;\n",
       "    }\n",
       "\n",
       "    .dataframe thead th {\n",
       "        text-align: right;\n",
       "    }\n",
       "</style>\n",
       "<table border=\"1\" class=\"dataframe\">\n",
       "  <thead>\n",
       "    <tr style=\"text-align: right;\">\n",
       "      <th></th>\n",
       "      <th>MEAN</th>\n",
       "      <th>SD</th>\n",
       "      <th>SEM</th>\n",
       "    </tr>\n",
       "    <tr>\n",
       "      <th>Sex</th>\n",
       "      <th></th>\n",
       "      <th></th>\n",
       "      <th></th>\n",
       "    </tr>\n",
       "  </thead>\n",
       "  <tbody>\n",
       "    <tr>\n",
       "      <th>Female</th>\n",
       "      <td>27.807692</td>\n",
       "      <td>9.163114</td>\n",
       "      <td>0.898517</td>\n",
       "    </tr>\n",
       "    <tr>\n",
       "      <th>Male</th>\n",
       "      <td>31.257143</td>\n",
       "      <td>12.708814</td>\n",
       "      <td>0.960696</td>\n",
       "    </tr>\n",
       "  </tbody>\n",
       "</table>\n",
       "</div>"
      ],
      "text/plain": [
       "             MEAN         SD       SEM\n",
       "Sex                                   \n",
       "Female  27.807692   9.163114  0.898517\n",
       "Male    31.257143  12.708814  0.960696"
      ]
     },
     "execution_count": 6,
     "metadata": {},
     "output_type": "execute_result"
    }
   ],
   "source": [
    "mn  = df_subset.groupby('Sex')['age'].mean() \n",
    "sd  = df_subset.groupby('Sex')['age'].std()\n",
    "sem = df_subset.groupby('Sex')['age'].sem()\n",
    "\n",
    "Stats = pd.concat([mn, sd,sem], axis=1)\n",
    "Stats.columns = ['MEAN','SD','SEM']\n",
    "Stats"
   ]
  },
  {
   "cell_type": "markdown",
   "metadata": {},
   "source": [
    "## Two df for women and men"
   ]
  },
  {
   "cell_type": "code",
   "execution_count": 7,
   "metadata": {},
   "outputs": [],
   "source": [
    "##DF for women and men\n",
    "Male   = df_subset[df_subset['Sex']=='Male']\n",
    "Female = df_subset[df_subset['Sex']=='Female']"
   ]
  },
  {
   "cell_type": "markdown",
   "metadata": {},
   "source": [
    "## Boxplot: Displayed are median, 1st and 3rd quartile, range and outliers."
   ]
  },
  {
   "cell_type": "code",
   "execution_count": 8,
   "metadata": {},
   "outputs": [
    {
     "data": {
      "image/png": "[encoded data removed]",
      "text/plain": [
       "<Figure size 432x288 with 1 Axes>"
      ]
     },
     "metadata": {
      "needs_background": "light"
     },
     "output_type": "display_data"
    }
   ],
   "source": [
    "plt.boxplot([Male['age'] , Female['age']],0,'g.')\n",
    "plt.xlabel('Gender')\n",
    "plt.ylabel('Mean Age')\n",
    "plt.xticks([1, 2], ['Male', 'Female'])\n",
    "plt.show()"
   ]
  }
 ],
 "metadata": {
  "kernelspec": {
   "display_name": "Python 3",
   "language": "python",
   "name": "python3"
  },
  "language_info": {
   "codemirror_mode": {
    "name": "ipython",
    "version": 3
   },
   "file_extension": ".py",
   "mimetype": "text/x-python",
   "name": "python",
   "nbconvert_exporter": "python",
   "pygments_lexer": "ipython3",
   "version": "3.7.1"
  }
 },
 "nbformat": 4,
 "nbformat_minor": 2
}
